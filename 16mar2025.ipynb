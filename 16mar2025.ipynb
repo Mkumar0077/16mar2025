{
  "cells": [
    {
      "cell_type": "code",
      "execution_count": null,
      "metadata": {
        "colab": {
          "base_uri": "https://localhost:8080/"
        },
        "id": "KVN3iXK6mMAx",
        "outputId": "eec7b5f8-192e-40ac-b23c-b4bc2569bc23"
      },
      "outputs": [
        {
          "output_type": "stream",
          "name": "stdout",
          "text": [
            "1 2 3 4 5 6 7 8 9 10 11 12 13 14 15 16 17 18 19 20 21 22 23 24 25 26 27 28 29 30 31 32 33 34 35 36 37 38 39 40 41 42 43 44 45 46 47 48 49 50 "
          ]
        }
      ],
      "source": [
        "#while loop:\n",
        "i = 1\n",
        "while i <= 50:\n",
        "  print(i, end=\" \")\n",
        "  i = i + 1"
      ]
    },
    {
      "cell_type": "code",
      "source": [
        "# Real-life usecases of while loop\n",
        "\n",
        "# Scenario: A user has 3 attempts to enter the correct password\n",
        "# If he enters the correct password, print \"Welcome to the system\"\n",
        "# If he enters the wrong password, print \"Incorrect password. Try again\"\n",
        "# If he enters the wrong password 3 times, print \"You have exceeded the number of attempts. Try again later\"\n",
        "\n",
        "correct_password = 'Darshan@1234'\n",
        "number_of_attempts = 3\n",
        "\n",
        "while number_of_attempts > 0: # till the number of attempts is greater than 0\n",
        "    entered_password = input('Enter the password: ')\n",
        "\n",
        "    if entered_password == correct_password:\n",
        "        print('Welcome to the system')\n",
        "        break # break statement is used to come out of the loop\n",
        "    else:\n",
        "        print('Incorrect password. Try again')\n",
        "        number_of_attempts = number_of_attempts - 1 # decrement the number of attempts\n",
        "\n",
        "if number_of_attempts == 0:\n",
        "    print('You have exceeded the number of attempts. Try again later')"
      ],
      "metadata": {
        "colab": {
          "base_uri": "https://localhost:8080/"
        },
        "id": "EGpZjqHtvDaj",
        "outputId": "2125dc9c-c5aa-494a-d7a3-47f287841f06"
      },
      "execution_count": null,
      "outputs": [
        {
          "output_type": "stream",
          "name": "stdout",
          "text": [
            "Enter the password: ghdb\n",
            "Incorrect password. Try again\n",
            "Enter the password: Darshan@1234\n",
            "Welcome to the system\n"
          ]
        }
      ]
    },
    {
      "cell_type": "code",
      "source": [],
      "metadata": {
        "id": "PHrssFm2xB2q"
      },
      "execution_count": null,
      "outputs": []
    }
  ],
  "metadata": {
    "colab": {
      "provenance": []
    },
    "kernelspec": {
      "display_name": "Python 3",
      "name": "python3"
    },
    "language_info": {
      "name": "python"
    }
  },
  "nbformat": 4,
  "nbformat_minor": 0
}